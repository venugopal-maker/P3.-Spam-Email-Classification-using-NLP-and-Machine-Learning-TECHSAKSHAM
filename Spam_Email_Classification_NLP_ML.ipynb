{
 "cells": [
  {
   "cell_type": "markdown",
   "id": "3b53f873",
   "metadata": {},
   "source": [
    "# Spam Email Classification using NLP and Machine Learning"
   ]
  },
  {
   "cell_type": "markdown",
   "id": "27ea2c3e",
   "metadata": {},
   "source": [
    "## Step 1: Importing Libraries"
   ]
  },
  {
   "cell_type": "code",
   "execution_count": null,
   "id": "e84d806c",
   "metadata": {},
   "outputs": [],
   "source": [
    "\n",
    "import numpy as np\n",
    "import pandas as pd\n",
    "import seaborn as sns\n",
    "import matplotlib.pyplot as plt\n",
    "from sklearn.feature_extraction.text import CountVectorizer, TfidfVectorizer\n",
    "from sklearn.model_selection import train_test_split\n",
    "from sklearn.naive_bayes import MultinomialNB\n",
    "from sklearn.metrics import accuracy_score, classification_report, confusion_matrix\n",
    "from nltk.corpus import stopwords\n",
    "from nltk.tokenize import word_tokenize\n",
    "import string\n",
    "import nltk\n",
    "\n",
    "nltk.download('punkt')\n",
    "nltk.download('stopwords')\n",
    "    "
   ]
  },
  {
   "cell_type": "markdown",
   "id": "7903480c",
   "metadata": {},
   "source": [
    "## Step 2: Loading and Exploring the Dataset"
   ]
  },
  {
   "cell_type": "code",
   "execution_count": null,
   "id": "78c6b4f2",
   "metadata": {},
   "outputs": [],
   "source": [
    "\n",
    "# Load dataset\n",
    "df = pd.read_csv('spam.csv', encoding='latin-1')  # Replace with your dataset\n",
    "df = df.rename(columns={\"v1\": \"label\", \"v2\": \"text\"})[['label', 'text']]\n",
    "df['label'] = df['label'].map({'ham': 0, 'spam': 1})\n",
    "print(df.head())\n",
    "print(df.info())\n",
    "print(df.describe())\n",
    "print(df['label'].value_counts())\n",
    "    "
   ]
  },
  {
   "cell_type": "markdown",
   "id": "878563ea",
   "metadata": {},
   "source": [
    "## Step 3: Data Preprocessing"
   ]
  },
  {
   "cell_type": "code",
   "execution_count": null,
   "id": "7a345031",
   "metadata": {},
   "outputs": [],
   "source": [
    "\n",
    "def preprocess_text(text):\n",
    "    text = text.lower()  # Convert to lowercase\n",
    "    text = text.translate(str.maketrans('', '', string.punctuation))  # Remove punctuation\n",
    "    tokens = word_tokenize(text)\n",
    "    tokens = [word for word in tokens if word not in stopwords.words('english')]  # Remove stopwords\n",
    "    return ' '.join(tokens)\n",
    "\n",
    "df['processed_text'] = df['text'].apply(preprocess_text)\n",
    "print(df.head())\n",
    "    "
   ]
  },
  {
   "cell_type": "markdown",
   "id": "714ffab5",
   "metadata": {},
   "source": [
    "## Step 4: Feature Extraction"
   ]
  },
  {
   "cell_type": "code",
   "execution_count": null,
   "id": "20ea588d",
   "metadata": {},
   "outputs": [],
   "source": [
    "\n",
    "# Using TF-IDF Vectorizer\n",
    "vectorizer = TfidfVectorizer(max_features=3000)\n",
    "X = vectorizer.fit_transform(df['processed_text']).toarray()\n",
    "y = df['label']\n",
    "    "
   ]
  },
  {
   "cell_type": "markdown",
   "id": "abf9a12e",
   "metadata": {},
   "source": [
    "## Step 5: Splitting the Data"
   ]
  },
  {
   "cell_type": "code",
   "execution_count": null,
   "id": "13340295",
   "metadata": {},
   "outputs": [],
   "source": [
    "\n",
    "X_train, X_test, y_train, y_test = train_test_split(X, y, test_size=0.2, random_state=42)\n",
    "    "
   ]
  },
  {
   "cell_type": "markdown",
   "id": "fb944bdc",
   "metadata": {},
   "source": [
    "## Step 6: Model Training"
   ]
  },
  {
   "cell_type": "code",
   "execution_count": null,
   "id": "9a22e2e1",
   "metadata": {},
   "outputs": [],
   "source": [
    "\n",
    "model = MultinomialNB()\n",
    "model.fit(X_train, y_train)\n",
    "    "
   ]
  },
  {
   "cell_type": "markdown",
   "id": "9eb2bf12",
   "metadata": {},
   "source": [
    "## Step 7: Model Evaluation"
   ]
  },
  {
   "cell_type": "code",
   "execution_count": null,
   "id": "aea2dd44",
   "metadata": {},
   "outputs": [],
   "source": [
    "\n",
    "y_pred = model.predict(X_test)\n",
    "print('Accuracy:', accuracy_score(y_test, y_pred))\n",
    "print('Classification Report:\\n', classification_report(y_test, y_pred))\n",
    "print('Confusion Matrix:\\n', confusion_matrix(y_test, y_pred))\n",
    "    "
   ]
  },
  {
   "cell_type": "markdown",
   "id": "22193c0d",
   "metadata": {},
   "source": [
    "## Step 8: Testing with New Emails"
   ]
  },
  {
   "cell_type": "code",
   "execution_count": null,
   "id": "df83d3f2",
   "metadata": {},
   "outputs": [],
   "source": [
    "\n",
    "def classify_new_email(email_text):\n",
    "    processed_email = preprocess_text(email_text)\n",
    "    vectorized_email = vectorizer.transform([processed_email]).toarray()\n",
    "    prediction = model.predict(vectorized_email)\n",
    "    return 'Spam' if prediction[0] == 1 else 'Ham'\n",
    "\n",
    "# Example test\n",
    "print(classify_new_email(\"Congratulations! You've won a $1,000 gift card. Click to claim.\"))\n",
    "print(classify_new_email(\"Hello, let's meet for coffee tomorrow.\"))\n",
    "    "
   ]
  },
  {
   "cell_type": "markdown",
   "id": "6e0bccf3",
   "metadata": {},
   "source": [
    "## Conclusion"
   ]
  },
  {
   "cell_type": "markdown",
   "id": "d31eb9df",
   "metadata": {},
   "source": [
    "This notebook demonstrated how to build a spam email classification system using NLP and machine learning techniques. Feel free to modify and improve upon this base implementation."
   ]
  }
 ],
 "metadata": {},
 "nbformat": 4,
 "nbformat_minor": 5
}
